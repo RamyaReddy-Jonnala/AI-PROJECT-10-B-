{
 "cells": [
  {
   "cell_type": "code",
   "execution_count": 1,
   "id": "a0b2447a-da0f-4b4f-b30a-3c2878838a22",
   "metadata": {},
   "outputs": [
    {
     "name": "stdout",
     "output_type": "stream",
     "text": [
      "Generation 1: Best Fitness = 0.3333333333333333\n",
      "Generation 2: Best Fitness = 0.3333333333333333\n",
      "Generation 3: Best Fitness = 0.3333333333333333\n",
      "Generation 4: Best Fitness = 0.3333333333333333\n",
      "Generation 5: Best Fitness = 0.3333333333333333\n",
      "Best Packing:\n",
      "[2]\n",
      "[]\n",
      "[0, 1]\n"
     ]
    }
   ],
   "source": [
    "import random\n",
    "NUM_ITEMS = 3\n",
    "BIN_CAPACITY = 5\n",
    "POPULATION_SIZE = 4\n",
    "GENERATIONS = 5\n",
    "MUTATION_RATE = 0.1\n",
    "CROSSOVER_RATE = 0.8\n",
    "ITEM_SIZES = [2, 3, 1]\n",
    "def create_chromosome():\n",
    "    chromosome = []\n",
    "    for item in range(NUM_ITEMS):\n",
    "        bin_index = random.randint(0, NUM_ITEMS - 1)\n",
    "        while len(chromosome) <= bin_index:\n",
    "            chromosome.append([])\n",
    "        chromosome[bin_index].append(item)\n",
    "    return chromosome\n",
    "def fitness(chromosome):\n",
    "    num_bins = len(chromosome)\n",
    "    penalty = 0\n",
    "    for bin in chromosome:\n",
    "        bin_size = sum(ITEM_SIZES[item] for item in bin)\n",
    "        if bin_size > BIN_CAPACITY:\n",
    "            penalty += bin_size - BIN_CAPACITY\n",
    "    return 1 / (num_bins + penalty)\n",
    "def crossover(parent1, parent2):\n",
    "    if random.random() < CROSSOVER_RATE:\n",
    "        point = random.randint(0, NUM_ITEMS - 1)\n",
    "        child1 = parent1[:point] + parent2[point:]\n",
    "        child2 = parent2[:point] + parent1[point:]\n",
    "        return child1, child2\n",
    "    return parent1, parent2\n",
    "def mutate(chromosome):\n",
    "    if random.random() < MUTATION_RATE:\n",
    "        if len(chromosome) >= 2:\n",
    "            bin1 = random.randint(0, len(chromosome) - 1)\n",
    "            bin2 = random.randint(0, len(chromosome) - 1)\n",
    "            while bin1 == bin2 or not chromosome[bin1] or not chromosome[bin2]:\n",
    "                bin1 = random.randint(0, len(chromosome) - 1)\n",
    "                bin2 = random.randint(0, len(chromosome) - 1)\n",
    "            item1 = random.choice(chromosome[bin1])\n",
    "            item2 = random.choice(chromosome[bin2])\n",
    "            chromosome[bin1].remove(item1)\n",
    "            chromosome[bin2].remove(item2)\n",
    "            chromosome[bin1].append(item2)\n",
    "            chromosome[bin2].append(item1)\n",
    "    return chromosome\n",
    "def select_population(population, fitness_scores):\n",
    "    total_fitness = sum(fitness_scores)\n",
    "    probabilities = [score / total_fitness for score in fitness_scores]\n",
    "    return random.choices(population, weights=probabilities, k=POPULATION_SIZE)\n",
    "def genetic_algorithm():\n",
    "    population = [create_chromosome() for _ in range(POPULATION_SIZE)]\n",
    "    for generation in range(GENERATIONS):\n",
    "        fitness_scores = [fitness(chromosome) for chromosome in population]\n",
    "        selected_population = select_population(population, fitness_scores)\n",
    "        new_population = []\n",
    "        for i in range(0, POPULATION_SIZE, 2):\n",
    "            parent1, parent2 = selected_population[i], selected_population[i + 1]\n",
    "            child1, child2 = crossover(parent1, parent2)\n",
    "            new_population.extend([mutate(child1), mutate(child2)])\n",
    "        population = new_population\n",
    "        best_fitness = max(fitness_scores)\n",
    "        print(f\"Generation {generation + 1}: Best Fitness = {best_fitness}\")\n",
    "    best_index = fitness_scores.index(max(fitness_scores))\n",
    "    return population[best_index]\n",
    "best_packing = genetic_algorithm()\n",
    "print(\"Best Packing:\")\n",
    "for bin in best_packing:\n",
    "    print(bin)"
   ]
  },
  {
   "cell_type": "code",
   "execution_count": null,
   "id": "0137eaf7-09be-4f6c-951c-86d6d6cb218b",
   "metadata": {},
   "outputs": [],
   "source": []
  }
 ],
 "metadata": {
  "kernelspec": {
   "display_name": "Python 3 (ipykernel)",
   "language": "python",
   "name": "python3"
  },
  "language_info": {
   "codemirror_mode": {
    "name": "ipython",
    "version": 3
   },
   "file_extension": ".py",
   "mimetype": "text/x-python",
   "name": "python",
   "nbconvert_exporter": "python",
   "pygments_lexer": "ipython3",
   "version": "3.12.4"
  }
 },
 "nbformat": 4,
 "nbformat_minor": 5
}
